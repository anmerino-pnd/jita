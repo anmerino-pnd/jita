{
 "cells": [
  {
   "cell_type": "markdown",
   "id": "7c8b35e9",
   "metadata": {},
   "source": [
    "### Imports and images"
   ]
  },
  {
   "cell_type": "code",
   "execution_count": 1,
   "id": "19820c56",
   "metadata": {},
   "outputs": [],
   "source": [
    "from jita.tools.OllamaOCR import OllamaOCR\n",
    "from jita.settings.config import CASA_LEY_DATA, WINDOWED_CASA_LEY\n",
    "\n",
    "folleto = list(CASA_LEY_DATA.glob(\"*.jpg\"))[0]"
   ]
  },
  {
   "cell_type": "markdown",
   "id": "d4d8a203",
   "metadata": {},
   "source": [
    "### Qwen 2.5"
   ]
  },
  {
   "cell_type": "code",
   "execution_count": 2,
   "id": "703ab47a",
   "metadata": {},
   "outputs": [],
   "source": [
    "qwen = OllamaOCR(\"qwen2.5vl:32b\")"
   ]
  },
  {
   "cell_type": "code",
   "execution_count": 3,
   "id": "b05c878d",
   "metadata": {},
   "outputs": [],
   "source": [
    "tiles = qwen.slicing_squares(folleto, WINDOWED_CASA_LEY, 825)"
   ]
  },
  {
   "cell_type": "code",
   "execution_count": null,
   "id": "525f9fbf",
   "metadata": {},
   "outputs": [
    {
     "data": {
      "text/plain": [
       "'### Análisis del Folleto de Promociones\\n\\nEl folleto que se muestra es una promoción especial de la tienda **Ley**, con el lema \"Aniversario\". Las ofertas están válidas únicamente para el **martes 30 de septiembre de 2025** y el **miércoles 1 de octubre de 2025**. Las promociones están organizadas en secciones específicas, con descuentos y ofertas en varios productos. A continuación, se detalla el análisis sección por sección:\\n\\n---\\n\\n### **1. Sección de Frutas y Verduras**\\n- **Frutas**: Ofertas en frutas como papas, duraznos, melones, calabazas, piñas, apio, pepinos, jicamas, nectarinas, manzanas, chayotes, cebollas, etc.\\n  - Ejemplo: **Papa a $19.90 por kilo**.\\n- **Verduras**: Ofertas en verduras como zanahorias, chiles, calabazas, pepinos, etc.\\n  - Ejemplo: **Zanahoria a $14.90 por kilo**.\\n- **Precios**: Los precios están marcados en colores distintivos (rojo para descuentos, negro para precios regulares).\\n\\n---\\n\\n### **2. Sección de Carnes**\\n- **Carnes Varias**: Ofertas en carne de res, pollo, cerdo, etc.\\n  - Ejemplo: **Carne de Res para Asar a $208.50 por kilo**.\\n- **Promociones Especiales**: Señaladas con etiquetas como \"3x2\" o \"2x1\".\\n  - Ejemplo: **Filete de Tilapia a $149.90 por kilo**.\\n\\n---\\n\\n### **3. Sección de Frutas y Verduras (Continuación)**\\n- **Frutas Cítricas**: Ofertas en limones, limas, etc.\\n  - Ejemplo: **Limón Colima a $29.90 por kilo**.\\n- **Hortalizas**: Ofertas en papas, tomates, cebollas, etc.\\n  - Ejemplo: **Papa Blanca a $29.90 por kilo**.\\n\\n---\\n\\n### **4. Sección de Lácteos y Refrigerados**\\n- **Yogurt y Postres**: Ofertas en marcas como Danette, Sufúli, etc.\\n  - Ejemplo: **Yogurt Danette a $11.90 por unidad**.\\n- **Promociones Especiales**: Señaladas con etiquetas como \"3x2\".\\n  - Ejemplo: **Yogurt Danette a $11.90 por unidad**.\\n\\n---\\n\\n### **5. Sección de Alimentos Secos**\\n- **Pasta**: Ofertas en marcas como Yemina, Misiones, etc.\\n  - Ejemplo: **Pasta Sopa a $29.90 por kilo**.\\n- **Cereales**: Ofertas en marcas como Kellogg\\'s, Empaque, etc.\\n  - Ejemplo: **Cereales Kellogg\\'s a $29.90 por kilo**.\\n\\n---\\n\\n### **6. Sección de Conservas y Alimentos Enlatados**\\n- **Atún**: Ofertas en atún en agua y aceite.\\n  - Ejemplo: **Atún en Agua a $37.90 por unidad**.\\n- **Promociones Especiales**: Señaladas con etiquetas como \"2x1\".\\n  - Ejemplo: **Atún en Agua a $37.90 por unidad**.\\n\\n---\\n\\n### **7. Sección de Limpieza**\\n- **Detergentes**: Ofertas en marcas como Salvo, VAS, etc.\\n  - Ejemplo: **Detergente Líquido Salvo a $139.90 por unidad**.\\n- **Promociones Especiales**: Señaladas con etiquetas como \"3x2\".\\n  - Ejemplo: **Detergente Líquido Salvo a $139.90 por unidad**.\\n\\n---\\n\\n### **8. Sección de Panadería y Snacks**\\n- **Pan y Tortillas**: Ofertas en marcas como Huggies, etc.\\n  - Ejemplo: **Pan Huggies a $139.90 por unidad**.\\n- **Snacks**: Ofertas en marcas como Tostitos, etc.\\n  - Ejemplo: **Tostitos a $9.90 por unidad**.\\n\\n---\\n\\n### **9. Sección de Electrónica**\\n- **Televisores**: Ofertas en marcas como HarmonTec.\\n  - Ejemplo: **Pantalla 4K de 50\" a $5,490 por unidad**.\\n- **Promociones Especiales**: Señaladas con descuentos del 20%.\\n  - Ejemplo: **Sartenes Gibson a $4.0 por unidad**.\\n\\n---\\n\\n### **10. Sección de Limpieza y Hogar**\\n- **Papel Higiénico**: Ofertas en marcas como Kleenex.\\n  - Ejemplo: **Papel Higiénico Kleenex a $29.90 por unidad**.\\n- **Promociones Especiales**: Señaladas con etiquetas como \"4x3\".\\n  - Ejemplo: **Papel Higiénico Kleenex a $29.90 por unidad**.\\n\\n---\\n\\n### **11. Sección de Ropa y Accesorios**\\n- **Llantas**: Ofertas en llantas de 364HD.\\n  - Ejemplo: **Llantas de 364HD a $29.90 por unidad**.\\n\\n---\\n\\n### **12. Sección de Promociones Especiales**\\n- **Promociones \"3x2\", \"2x1\", \"4x3\"**: Señaladas en varios productos.\\n  - Ejemplo: **Detergente Líquido Salvo a $139.90 por unidad**.\\n- **Descuentos Especiales**: Señalados con porcentajes como \"20% de descuento\".\\n  - Ejemplo: **Sartenes Gibson a $4.0 por unidad**.\\n\\n---\\n\\n### **13. Información General**\\n- **Vigencia de las Ofertas**: Las ofertas son válidas únicamente para el **martes 30 de septiembre de 2025** y el **miércoles 1 de octubre de 2025**.\\n- **Límites de Compra**: Se menciona que las ofertas están sujetas a disponibilidad y a un número limitado de unidades por cliente.\\n- **Ubicación**: El folleto menciona que las ofertas son válidas en **Hermosillo, Sonora**.\\n\\n---\\n\\n### **Resumen de las Promociones**\\n1. **Frutas y Verduras**: Precios bajos en papas, limones, tomates, etc.\\n2. **Carnes**: Ofertas en carne de res, pollo, y pescado.\\n3. **Lácteos y Refrigerados**: Descuentos en yogurt y postres.\\n4. **Alimentos Secos**: Ofertas en pasta y cereales.\\n5. **Conservas y Enlatados**: Descuentos en atún.\\n6. **Limpieza**: Promociones en detergentes.\\n7. **Panadería y Snacks**: Ofertas en pan y snacks.\\n8. **Electrónica**: Descuentos en televisores.\\n9. **Limpieza y Hogar**: Promociones en papel higiénico.\\n10. **Ropa y Accesorios**: Ofertas en llantas.\\n\\n---\\n\\n### **Conclusión**\\nEl folleto de promociones de **Ley** ofrece una amplia variedad de descuentos y ofertas especiales en productos de la canasta básica, alimentos procesados, productos de limpieza, y artículos de electrónica. Las promociones están diseñadas para atraer a los clientes con descuentos significativos y ofertas especiales como \"3x2\", \"2x1\", y \"4x3\". La vigencia de las ofertas es limitada, lo que genera un sentido de urgencia para los clientes.\\n\\n---\\n\\n### **Respuesta Final**\\nEl folleto es una estrategia de marketing efectiva para atraer clientes con ofertas atractivas y limitadas en tiempo. Las promociones están bien organizadas y destacan productos esenciales para el hogar, lo que facilita la navegación para los consumidores. **Las ofertas más destacadas incluyen frutas, verduras, carnes, lácteos, y productos de limpieza, con descuentos significativos.**\\n\\n**Resumen en una sola frase:**\\nEste folleto de **Ley** ofrece una amplia gama de promociones especiales en productos básicos y de consumo diario, con descuentos significativos y ofertas limitadas en tiempo, destacando frutas, verduras, carnes, lácteos, y productos de limpieza. **Las ofertas son válidas únicamente para el martes 30 de septiembre y miércoles 1 de octubre de 2025.**\\n\\n**\\\\boxed{04}** (Código de página del folleto).'"
      ]
     },
     "execution_count": 13,
     "metadata": {},
     "output_type": "execute_result"
    }
   ],
   "source": [
    "print(qwen.extract_text(folleto))"
   ]
  },
  {
   "cell_type": "markdown",
   "id": "5def8888",
   "metadata": {},
   "source": [
    "### Mistral small"
   ]
  },
  {
   "cell_type": "code",
   "execution_count": 14,
   "id": "4980c21d",
   "metadata": {},
   "outputs": [],
   "source": [
    "mistral = OllamaOCR(\"mistral-small3.2:24b\")"
   ]
  },
  {
   "cell_type": "code",
   "execution_count": null,
   "id": "b044c3d8",
   "metadata": {},
   "outputs": [
    {
     "data": {
      "text/plain": [
       "'El folleto que has compartido es una promoción de un supermercado llamado \"Ley\", celebrando su aniversario. La promoción es válida solo el martes 30 de septiembre de 2014. Aquí hay un resumen detallado de las secciones y ofertas destacadas:\\n\\n### Sección de Frutas y Verduras\\n- **Papa Russet**: $19.90 por 10 kg\\n- **Cebolla**: $14.90 por 5 kg\\n- **Pepino**: $24.90 por 6 piezas\\n- **Jícama**: $19.90 por 3 kg\\n- **Zanahoria**: $15.90 por 5 kg\\n- **Naranja**: $19.90 por 5 kg\\n- **Limón**: $29.90 por 5 kg\\n- **Tomate**: $14.90 por 3 kg\\n- **Cebolla Blanca**: $19.90 por 5 kg\\n\\n### Sección de Carnes\\n- **Carne de Res para Asar**: $208.90 por kg\\n- **Carne de Res para Asar (Oferta)**: $123.90 por kg\\n- **Pollo Fresco**: $67.90 por 8 piezas\\n- **Pulpa de Res**: $187.90 por kg\\n- **Menudo**: $98.90 por kg\\n- **Pierna y Muslo de Pollo**: $109.90 por kg\\n- **Bistec de Res**: $99.90 por kg\\n- **Camarón**: $196.90 por kg\\n\\n### Sección de Productos Lácteos y Yogur\\n- **Yogur y Postres**: 3 x 2 a $19.90\\n\\n### Sección de Pasta y Cereales\\n- **Pasta**: 3 x 2 a $19.90\\n- **Cereales**: 2 x $120.90\\n\\n### Sección de Aceite y Detergentes\\n- **Aceite**: 2 x $49.90\\n- **Detergente Líquido**: 3 x 2 a $139.90\\n\\n### Sección de Snacks y Productos Variados\\n- **Tostitos**: 3 x 2 a $19.90\\n- **Kleenex**: 4 x 3 a $29.90\\n- **Pañales Huggies**: 3 x 2 a $149.90\\n- **Llantas**: 20% de descuento\\n- **Artículos de Limpieza y Otros Productos**: Varias ofertas 3 x 2 y 4 x 3\\n\\n### Sección de Promociones Especiales\\n- **Jamón**: $197.90 por kg\\n- **Chiles en Nogada**: $94.90 por kg\\n- **Salchicha**: $40.90 por kg\\n- **Queso**: $130.90 por kg\\n- **Helado**: $129.90 por litro\\n- **Cortadillos y Volteados**: 3 x 2 a $134.90\\n\\n### Información Adicional\\n- Las promociones \"3x2\", \"2x1\" y \"4x3\" son válidas únicamente en artículos de la misma marca y línea.\\n- Las ofertas son válidas en las tiendas Ley, Super Ley y Ley Express de Hermosillo, Sonora.\\n\\nEste folleto ofrece una amplia variedad de productos con descuentos significativos, especialmente en carnes, frutas, verduras y productos de limpieza.'"
      ]
     },
     "execution_count": 15,
     "metadata": {},
     "output_type": "execute_result"
    }
   ],
   "source": [
    "print(mistral.extract_text(folleto))"
   ]
  },
  {
   "cell_type": "code",
   "execution_count": null,
   "id": "1cb0151f",
   "metadata": {},
   "outputs": [],
   "source": []
  }
 ],
 "metadata": {
  "kernelspec": {
   "display_name": "jita",
   "language": "python",
   "name": "python3"
  },
  "language_info": {
   "codemirror_mode": {
    "name": "ipython",
    "version": 3
   },
   "file_extension": ".py",
   "mimetype": "text/x-python",
   "name": "python",
   "nbconvert_exporter": "python",
   "pygments_lexer": "ipython3",
   "version": "3.12.9"
  }
 },
 "nbformat": 4,
 "nbformat_minor": 5
}
