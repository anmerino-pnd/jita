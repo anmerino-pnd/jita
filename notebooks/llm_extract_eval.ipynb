{
 "cells": [
  {
   "cell_type": "markdown",
   "id": "7c8b35e9",
   "metadata": {},
   "source": [
    "### Imports and images"
   ]
  },
  {
   "cell_type": "code",
   "execution_count": 1,
   "id": "19820c56",
   "metadata": {},
   "outputs": [],
   "source": [
    "from jita.tools.OllamaOCR import OllamaOCR\n",
    "from jita.settings.config import CASA_LEY_DATA, WINDOWED_CASA_LEY\n",
    "\n",
    "folleto = list(CASA_LEY_DATA.glob(\"*.jpg\"))[0]"
   ]
  },
  {
   "cell_type": "markdown",
   "id": "d4d8a203",
   "metadata": {},
   "source": [
    "### Qwen 2.5"
   ]
  },
  {
   "cell_type": "code",
   "execution_count": 2,
   "id": "703ab47a",
   "metadata": {},
   "outputs": [],
   "source": [
    "qwen = OllamaOCR(\"qwen2.5vl:32b\")"
   ]
  },
  {
   "cell_type": "code",
   "execution_count": 4,
   "id": "b05c878d",
   "metadata": {},
   "outputs": [],
   "source": [
    "tiles = qwen.smart_slicing(folleto, WINDOWED_CASA_LEY)"
   ]
  },
  {
   "cell_type": "code",
   "execution_count": 6,
   "id": "d9467fe3",
   "metadata": {},
   "outputs": [
    {
     "data": {
      "text/plain": [
       "'C:\\\\Users\\\\angel.merino\\\\Documents\\\\GitHub\\\\jita\\\\datos\\\\casa_ley\\\\octubre_2025\\\\windowed\\\\pagina_01_01102025_r0_c0.png'"
      ]
     },
     "execution_count": 6,
     "metadata": {},
     "output_type": "execute_result"
    }
   ],
   "source": [
    "tiles[0]"
   ]
  },
  {
   "cell_type": "code",
   "execution_count": 7,
   "id": "525f9fbf",
   "metadata": {},
   "outputs": [
    {
     "name": "stdout",
     "output_type": "stream",
     "text": [
      "El folleto que se muestra es una promoción de ofertas válidas solo para el martes 30 de septiembre de 2025. Se trata de una lista de productos de frutas, verduras y otros alimentos, con precios especiales. A continuación, se analiza el contenido del folleto:\n",
      "\n",
      "### **Información General**\n",
      "- **Fecha de la Promoción**: Martes 30 de septiembre de 2025.\n",
      "- **Tipo de Productos**: Frutas, verduras, hortalizas y otros alimentos.\n",
      "- **Restricciones**: Se menciona que hay un límite de compra por cliente para algunos productos (por ejemplo, \"máximo 5 kilos\" o \"máximo 5 piezas\").\n",
      "\n",
      "### **Productos y Precios**\n",
      "#### **Primera Fila**\n",
      "1. **PAPA**\n",
      "   - **Variedad**: Russet\n",
      "   - **Presentación**: A granel\n",
      "   - **Precio**: $19.90 por kilo\n",
      "   - **Restricción**: Máximo 5 kilos por cliente\n",
      "\n",
      "2. **CHILE**\n",
      "   - **Variedad**: Anaheim\n",
      "   - **Precio**: $49.90 por kilo\n",
      "   - **Restricción**: Máximo 5 kilos por cliente\n",
      "\n",
      "3. **CIRUELA**\n",
      "   - **Variedad**: Roja España\n",
      "   - **Precio**: $79.90 por kilo\n",
      "   - **Restricción**: Máximo 5 kilos por cliente\n",
      "\n",
      "#### **Segunda Fila**\n",
      "1. **PIÑA**\n",
      "   - **Variedad**: Miel\n",
      "   - **Precio**: $24.90 por kilo\n",
      "   - **Restricción**: Máximo 5 piezas por cliente\n",
      "\n",
      "2. **DURAZNO**\n",
      "   - **Variedad**: Rojo\n",
      "   - **Precio**: $79.90 por kilo\n",
      "   - **Restricción**: Máximo 5 kilos por cliente\n",
      "\n",
      "3. **MELÓN**\n",
      "   - **Variedad**: Chino\n",
      "   - **Precio**: $19.90 por kilo\n",
      "   - **Restricción**: Máximo 5 piezas por cliente\n",
      "\n",
      "#### **Tercera Fila**\n",
      "1. **PEPINO**\n",
      "   - **Variedad**: Verde\n",
      "   - **Precio**: $24.90 por kilo\n",
      "   - **Restricción**: Máximo 5 kilos por cliente\n",
      "\n",
      "2. **APIO**\n",
      "   - **Precio**: $19.90 por kilo\n",
      "   - **Restricción**: Máximo 5 kilos por cliente\n",
      "\n",
      "3. **CALABAZA**\n",
      "   - **Variedad**: Americana\n",
      "   - **Precio**: $29.90 por kilo\n",
      "   - **Restricción**: Máximo 5 kilos por cliente\n",
      "\n",
      "#### **Cuarta Fila**\n",
      "1. **MANZANA**\n",
      "   - **Variedad**: Gala\n",
      "   - **Presentación**: Bolsa de 600g\n",
      "   - **Precio**: $29.90 por bolsa\n",
      "   - **Restricción**: Máximo 5 bolsas por cliente\n",
      "\n",
      "2. **JÍCAMA**\n",
      "   - **Precio**: $19.90 por kilo\n",
      "   - **Restricción**: Máximo 5 kilos por cliente\n",
      "\n",
      "3. **NECTARINA**\n",
      "   - **Precio**: $79.90 por kilo\n",
      "   - **Restricción**: Máximo 5 kilos por cliente\n",
      "\n",
      "#### **Quinta Fila**\n",
      "1. **MANZANA**\n",
      "   - **Variedad**: Golden\n",
      "   - **Presentación**: En bolsa\n",
      "   - **Precio**: $29.90 por bolsa\n",
      "   - **Restricción**: Máximo 5 bolsas por cliente\n",
      "\n",
      "2. **CHAYOTE**\n",
      "   - **Variedad**: Sin Espina\n",
      "   - **Precio**: $39.90 por kilo\n",
      "   - **Restricción**: Máximo 5 kilos por cliente\n",
      "\n",
      "#### **Sexta Fila**\n",
      "1. **CEBOLLITA**\n",
      "   - **Variedad**: Cambray\n",
      "   - **Presentación**: Mazo\n",
      "   - **Precio**: $15.90 por mazo\n",
      "   - **Restricción**: Máximo 5 mazos por cliente\n",
      "\n",
      "2. **PAPAYA**\n",
      "   - **Variedad**: Maradol\n",
      "   - **Precio**: $39.90 por kilo\n",
      "   - **Restricción**: Máximo 5 piezas por cliente\n",
      "\n",
      "3. **SANDÍA**\n",
      "   - **Variedad**: Rayada\n",
      "   - **Precio**: $9.90 por kilo\n",
      "   - **Restricción**: Máximo 5 piezas por cliente\n",
      "\n",
      "### **Observaciones**\n",
      "1. **Precios Especiales**: Los precios están marcados con colores destacados (verde, amarillo) para resaltar las ofertas.\n",
      "2. **Restricciones de Compra**: Se establecen límites de compra por cliente para evitar abusos en la promoción.\n",
      "3. **Variedades Específicas**: Algunos productos tienen variedades específicas mencionadas (por ejemplo, \"Papa Russet\", \"Chile Anaheim\", \"Manzana Gala\").\n",
      "4. **Presentación**: Algunos productos se venden por kilo, mientras que otros se venden en bolsas o piezas.\n",
      "\n",
      "### **Destacados**\n",
      "- **Papa Russet**: Ofrecida a un precio muy competitivo ($19.90 por kilo).\n",
      "- **Manzanas Gala y Golden**: Ofrecidas en bolsas de 600g a $29.90 por bolsa.\n",
      "- **Sandía Rayada**: Ofrecida a un precio muy bajo ($9.90 por kilo).\n",
      "\n",
      "### **Conclusión**\n",
      "El folleto presenta una promoción especial para el martes 30 de septiembre de 2025, con una variedad de frutas, verduras y hortalizas a precios reducidos. Las ofertas están diseñadas para atraer a los clientes con productos frescos y populares, y las restricciones de compra por cliente aseguran que la promoción sea accesible para todos. Los precios son claros y destacados, lo que facilita la comparación para los consumidores.\n"
     ]
    }
   ],
   "source": [
    "print(qwen.extract_text(tiles[0]))"
   ]
  },
  {
   "cell_type": "markdown",
   "id": "5def8888",
   "metadata": {},
   "source": [
    "### Mistral small"
   ]
  },
  {
   "cell_type": "code",
   "execution_count": 14,
   "id": "4980c21d",
   "metadata": {},
   "outputs": [],
   "source": [
    "mistral = OllamaOCR(\"mistral-small3.2:24b\")"
   ]
  },
  {
   "cell_type": "code",
   "execution_count": null,
   "id": "b044c3d8",
   "metadata": {},
   "outputs": [
    {
     "data": {
      "text/plain": [
       "'El folleto que has compartido es una promoción de un supermercado llamado \"Ley\", celebrando su aniversario. La promoción es válida solo el martes 30 de septiembre de 2014. Aquí hay un resumen detallado de las secciones y ofertas destacadas:\\n\\n### Sección de Frutas y Verduras\\n- **Papa Russet**: $19.90 por 10 kg\\n- **Cebolla**: $14.90 por 5 kg\\n- **Pepino**: $24.90 por 6 piezas\\n- **Jícama**: $19.90 por 3 kg\\n- **Zanahoria**: $15.90 por 5 kg\\n- **Naranja**: $19.90 por 5 kg\\n- **Limón**: $29.90 por 5 kg\\n- **Tomate**: $14.90 por 3 kg\\n- **Cebolla Blanca**: $19.90 por 5 kg\\n\\n### Sección de Carnes\\n- **Carne de Res para Asar**: $208.90 por kg\\n- **Carne de Res para Asar (Oferta)**: $123.90 por kg\\n- **Pollo Fresco**: $67.90 por 8 piezas\\n- **Pulpa de Res**: $187.90 por kg\\n- **Menudo**: $98.90 por kg\\n- **Pierna y Muslo de Pollo**: $109.90 por kg\\n- **Bistec de Res**: $99.90 por kg\\n- **Camarón**: $196.90 por kg\\n\\n### Sección de Productos Lácteos y Yogur\\n- **Yogur y Postres**: 3 x 2 a $19.90\\n\\n### Sección de Pasta y Cereales\\n- **Pasta**: 3 x 2 a $19.90\\n- **Cereales**: 2 x $120.90\\n\\n### Sección de Aceite y Detergentes\\n- **Aceite**: 2 x $49.90\\n- **Detergente Líquido**: 3 x 2 a $139.90\\n\\n### Sección de Snacks y Productos Variados\\n- **Tostitos**: 3 x 2 a $19.90\\n- **Kleenex**: 4 x 3 a $29.90\\n- **Pañales Huggies**: 3 x 2 a $149.90\\n- **Llantas**: 20% de descuento\\n- **Artículos de Limpieza y Otros Productos**: Varias ofertas 3 x 2 y 4 x 3\\n\\n### Sección de Promociones Especiales\\n- **Jamón**: $197.90 por kg\\n- **Chiles en Nogada**: $94.90 por kg\\n- **Salchicha**: $40.90 por kg\\n- **Queso**: $130.90 por kg\\n- **Helado**: $129.90 por litro\\n- **Cortadillos y Volteados**: 3 x 2 a $134.90\\n\\n### Información Adicional\\n- Las promociones \"3x2\", \"2x1\" y \"4x3\" son válidas únicamente en artículos de la misma marca y línea.\\n- Las ofertas son válidas en las tiendas Ley, Super Ley y Ley Express de Hermosillo, Sonora.\\n\\nEste folleto ofrece una amplia variedad de productos con descuentos significativos, especialmente en carnes, frutas, verduras y productos de limpieza.'"
      ]
     },
     "execution_count": 15,
     "metadata": {},
     "output_type": "execute_result"
    }
   ],
   "source": [
    "print(mistral.extract_text(folleto))"
   ]
  },
  {
   "cell_type": "code",
   "execution_count": null,
   "id": "1cb0151f",
   "metadata": {},
   "outputs": [],
   "source": []
  }
 ],
 "metadata": {
  "kernelspec": {
   "display_name": "jita",
   "language": "python",
   "name": "python3"
  },
  "language_info": {
   "codemirror_mode": {
    "name": "ipython",
    "version": 3
   },
   "file_extension": ".py",
   "mimetype": "text/x-python",
   "name": "python",
   "nbconvert_exporter": "python",
   "pygments_lexer": "ipython3",
   "version": "3.12.9"
  }
 },
 "nbformat": 4,
 "nbformat_minor": 5
}
