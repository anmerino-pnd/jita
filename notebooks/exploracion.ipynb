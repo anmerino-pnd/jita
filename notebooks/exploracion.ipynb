{
 "cells": [
  {
   "cell_type": "code",
   "execution_count": 6,
   "id": "d304c2db",
   "metadata": {},
   "outputs": [],
   "source": [
    "import os\n",
    "import rarfile\n",
    "import requests\n",
    "import pandas as pd\n",
    "from io import StringIO \n",
    "from datetime import date\n",
    "from bs4 import BeautifulSoup\n",
    "from jita.settings.credentials import qqp, datos_abiertos\n",
    "\n",
    "year = str(date.today().year)"
   ]
  },
  {
   "cell_type": "code",
   "execution_count": 14,
   "id": "7c001742",
   "metadata": {},
   "outputs": [
    {
     "name": "stdout",
     "output_type": "stream",
     "text": [
      "Leyendo: 2025/08-2025_02.csv\n"
     ]
    },
    {
     "ename": "RarCannotExec",
     "evalue": "Cannot find working tool",
     "output_type": "error",
     "traceback": [
      "\u001b[31m---------------------------------------------------------------------------\u001b[39m",
      "\u001b[31mRarCannotExec\u001b[39m                             Traceback (most recent call last)",
      "\u001b[36mCell\u001b[39m\u001b[36m \u001b[39m\u001b[32mIn[14]\u001b[39m\u001b[32m, line 20\u001b[39m\n\u001b[32m     17\u001b[39m     csv_name = rf.namelist()[-\u001b[32m2\u001b[39m]\n\u001b[32m     18\u001b[39m     \u001b[38;5;28mprint\u001b[39m(\u001b[33mf\u001b[39m\u001b[33m\"\u001b[39m\u001b[33mLeyendo: \u001b[39m\u001b[38;5;132;01m{\u001b[39;00mcsv_name\u001b[38;5;132;01m}\u001b[39;00m\u001b[33m\"\u001b[39m)\n\u001b[32m---> \u001b[39m\u001b[32m20\u001b[39m \u001b[38;5;28;01mwith\u001b[39;00m \u001b[43mrf\u001b[49m\u001b[43m.\u001b[49m\u001b[43mopen\u001b[49m\u001b[43m(\u001b[49m\u001b[43mcsv_name\u001b[49m\u001b[43m)\u001b[49m \u001b[38;5;28;01mas\u001b[39;00m csvfile:\n\u001b[32m     21\u001b[39m     df_qqp = pd.read_csv(csvfile, encoding=\u001b[33m'\u001b[39m\u001b[33mlatin1\u001b[39m\u001b[33m'\u001b[39m)\n",
      "\u001b[36mFile \u001b[39m\u001b[32mc:\\Users\\angel.merino\\Documents\\GitHub\\jita\\.venv\\Lib\\site-packages\\rarfile.py:822\u001b[39m, in \u001b[36mRarFile.open\u001b[39m\u001b[34m(self, name, mode, pwd)\u001b[39m\n\u001b[32m    819\u001b[39m \u001b[38;5;28;01melse\u001b[39;00m:\n\u001b[32m    820\u001b[39m     pwd = \u001b[38;5;28;01mNone\u001b[39;00m\n\u001b[32m--> \u001b[39m\u001b[32m822\u001b[39m \u001b[38;5;28;01mreturn\u001b[39;00m \u001b[38;5;28;43mself\u001b[39;49m\u001b[43m.\u001b[49m\u001b[43m_file_parser\u001b[49m\u001b[43m.\u001b[49m\u001b[43mopen\u001b[49m\u001b[43m(\u001b[49m\u001b[43minf\u001b[49m\u001b[43m,\u001b[49m\u001b[43m \u001b[49m\u001b[43mpwd\u001b[49m\u001b[43m)\u001b[49m\n",
      "\u001b[36mFile \u001b[39m\u001b[32mc:\\Users\\angel.merino\\Documents\\GitHub\\jita\\.venv\\Lib\\site-packages\\rarfile.py:1303\u001b[39m, in \u001b[36mCommonParser.open\u001b[39m\u001b[34m(self, inf, pwd)\u001b[39m\n\u001b[32m   1301\u001b[39m     \u001b[38;5;28;01mreturn\u001b[39;00m \u001b[38;5;28mself\u001b[39m._open_unrar_membuf(\u001b[38;5;28mself\u001b[39m._rarfile, inf, pwd)\n\u001b[32m   1302\u001b[39m \u001b[38;5;28;01melse\u001b[39;00m:\n\u001b[32m-> \u001b[39m\u001b[32m1303\u001b[39m     \u001b[38;5;28;01mreturn\u001b[39;00m \u001b[38;5;28;43mself\u001b[39;49m\u001b[43m.\u001b[49m\u001b[43m_open_unrar\u001b[49m\u001b[43m(\u001b[49m\u001b[38;5;28;43mself\u001b[39;49m\u001b[43m.\u001b[49m\u001b[43m_rarfile\u001b[49m\u001b[43m,\u001b[49m\u001b[43m \u001b[49m\u001b[43minf\u001b[49m\u001b[43m,\u001b[49m\u001b[43m \u001b[49m\u001b[43mpwd\u001b[49m\u001b[43m)\u001b[49m\n",
      "\u001b[36mFile \u001b[39m\u001b[32mc:\\Users\\angel.merino\\Documents\\GitHub\\jita\\.venv\\Lib\\site-packages\\rarfile.py:1350\u001b[39m, in \u001b[36mCommonParser._open_unrar\u001b[39m\u001b[34m(self, rarfile, inf, pwd, tmpfile, force_file)\u001b[39m\n\u001b[32m   1347\u001b[39m \u001b[38;5;28;01mdef\u001b[39;00m\u001b[38;5;250m \u001b[39m\u001b[34m_open_unrar\u001b[39m(\u001b[38;5;28mself\u001b[39m, rarfile, inf, pwd=\u001b[38;5;28;01mNone\u001b[39;00m, tmpfile=\u001b[38;5;28;01mNone\u001b[39;00m, force_file=\u001b[38;5;28;01mFalse\u001b[39;00m):\n\u001b[32m   1348\u001b[39m \u001b[38;5;250m    \u001b[39m\u001b[33;03m\"\"\"Extract using unrar\u001b[39;00m\n\u001b[32m   1349\u001b[39m \u001b[33;03m    \"\"\"\u001b[39;00m\n\u001b[32m-> \u001b[39m\u001b[32m1350\u001b[39m     setup = \u001b[43mtool_setup\u001b[49m\u001b[43m(\u001b[49m\u001b[43m)\u001b[49m\n\u001b[32m   1352\u001b[39m     \u001b[38;5;66;03m# not giving filename avoids encoding related problems\u001b[39;00m\n\u001b[32m   1353\u001b[39m     fn = \u001b[38;5;28;01mNone\u001b[39;00m\n",
      "\u001b[36mFile \u001b[39m\u001b[32mc:\\Users\\angel.merino\\Documents\\GitHub\\jita\\.venv\\Lib\\site-packages\\rarfile.py:3495\u001b[39m, in \u001b[36mtool_setup\u001b[39m\u001b[34m(unrar, unar, bsdtar, sevenzip, sevenzip2, force)\u001b[39m\n\u001b[32m   3493\u001b[39m         \u001b[38;5;28;01mbreak\u001b[39;00m\n\u001b[32m   3494\u001b[39m \u001b[38;5;28;01mif\u001b[39;00m CURRENT_SETUP \u001b[38;5;129;01mis\u001b[39;00m \u001b[38;5;28;01mNone\u001b[39;00m:\n\u001b[32m-> \u001b[39m\u001b[32m3495\u001b[39m     \u001b[38;5;28;01mraise\u001b[39;00m RarCannotExec(\u001b[33m\"\u001b[39m\u001b[33mCannot find working tool\u001b[39m\u001b[33m\"\u001b[39m)\n\u001b[32m   3496\u001b[39m \u001b[38;5;28;01mreturn\u001b[39;00m CURRENT_SETUP\n",
      "\u001b[31mRarCannotExec\u001b[39m: Cannot find working tool"
     ]
    }
   ],
   "source": [
    "page = requests.get(qqp)\n",
    "soup = BeautifulSoup(page.content, 'lxml')\n",
    "download_link = None\n",
    "for index, link in enumerate(soup.find_all('a')):\n",
    "    if year in link.text:\n",
    "        download_link = link['href']\n",
    "        break\n",
    "    \n",
    "if download_link:\n",
    "    url = os.path.join(datos_abiertos, download_link)\n",
    "    rar = requests.get(url)    \n",
    "    \n",
    "    with open('temp.rar', 'wb') as f:\n",
    "        f.write(rar.content)\n",
    "    \n",
    "    with rarfile.RarFile('temp.rar') as rf:\n",
    "        csv_name = rf.namelist()[-2]\n",
    "        print(f\"Leyendo: {csv_name}\")\n",
    "\n",
    "    with rf.open(csv_name) as csvfile:\n",
    "        df_qqp = pd.read_csv(csvfile, encoding='latin1')"
   ]
  },
  {
   "cell_type": "code",
   "execution_count": null,
   "id": "0b047820",
   "metadata": {},
   "outputs": [],
   "source": [
    "df_qqp"
   ]
  }
 ],
 "metadata": {
  "kernelspec": {
   "display_name": "jita",
   "language": "python",
   "name": "python3"
  },
  "language_info": {
   "codemirror_mode": {
    "name": "ipython",
    "version": 3
   },
   "file_extension": ".py",
   "mimetype": "text/x-python",
   "name": "python",
   "nbconvert_exporter": "python",
   "pygments_lexer": "ipython3",
   "version": "3.12.9"
  }
 },
 "nbformat": 4,
 "nbformat_minor": 5
}
