{
 "cells": [
  {
   "cell_type": "code",
   "execution_count": 1,
   "id": "d304c2db",
   "metadata": {},
   "outputs": [],
   "source": [
    "import os\n",
    "import rarfile\n",
    "import requests\n",
    "import pandas as pd\n",
    "from io import StringIO \n",
    "from datetime import date\n",
    "from bs4 import BeautifulSoup\n",
    "from jita.settings.credentials import (\n",
    "    qqp,\n",
    "    datos_abiertos, \n",
    "    gasolina_hmo,\n",
    "    casa_ley\n",
    ")\n",
    "\n",
    "year = str(date.today().year)"
   ]
  },
  {
   "cell_type": "code",
   "execution_count": null,
   "id": "7c001742",
   "metadata": {},
   "outputs": [],
   "source": [
    "page = requests.get(qqp)\n",
    "soup = BeautifulSoup(page.content, 'lxml')\n",
    "download_link = None\n",
    "for index, link in enumerate(soup.find_all('a')):\n",
    "    if year in link.text:\n",
    "        download_link = link['href']\n",
    "        break\n",
    "    \n",
    "if download_link:\n",
    "    url = os.path.join(datos_abiertos, download_link)\n",
    "    rar = requests.get(url)    \n",
    "    \n",
    "    with open('temp.rar', 'wb') as f:\n",
    "        f.write(rar.content)\n",
    "    \n",
    "    with rarfile.RarFile('temp.rar') as rf:\n",
    "        csv_name = rf.namelist()[-2]\n",
    "        print(f\"Leyendo: {csv_name}\")\n",
    "\n",
    "    with rf.open(csv_name) as csvfile:\n",
    "        df_qqp = pd.read_csv(csvfile, encoding='latin1')"
   ]
  },
  {
   "cell_type": "code",
   "execution_count": 15,
   "id": "25be9fd6",
   "metadata": {},
   "outputs": [],
   "source": [
    "page = requests.get(gasolina_hmo)\n",
    "soup = BeautifulSoup(page.content, 'lxml')\n",
    "rows = []\n",
    "\n",
    "for tr in soup.find_all('tr'):\n",
    "    tds = tr.find_all('td', attrs={'data-label': True})\n",
    "    if not tds:\n",
    "        continue\n",
    "    row = {td['data-label']: td.get_text(strip=True) for td in tds}\n",
    "    rows.append(row)"
   ]
  },
  {
   "cell_type": "code",
   "execution_count": 2,
   "id": "9a4901b0",
   "metadata": {},
   "outputs": [],
   "source": [
    "page = requests.get(casa_ley)\n",
    "soup = BeautifulSoup(page.content, 'lxml')"
   ]
  },
  {
   "cell_type": "code",
   "execution_count": 3,
   "id": "7f0caa55",
   "metadata": {},
   "outputs": [
    {
     "data": {
      "text/plain": [
       "<html>\n",
       "<head><title>403 Forbidden</title></head>\n",
       "<body>\n",
       "<center><h1>403 Forbidden</h1></center>\n",
       "<hr/><center>nginx</center>\n",
       "</body>\n",
       "</html>"
      ]
     },
     "execution_count": 3,
     "metadata": {},
     "output_type": "execute_result"
    }
   ],
   "source": [
    "soup"
   ]
  },
  {
   "cell_type": "code",
   "execution_count": null,
   "id": "3d441ca8",
   "metadata": {},
   "outputs": [],
   "source": []
  }
 ],
 "metadata": {
  "kernelspec": {
   "display_name": "jita",
   "language": "python",
   "name": "python3"
  },
  "language_info": {
   "codemirror_mode": {
    "name": "ipython",
    "version": 3
   },
   "file_extension": ".py",
   "mimetype": "text/x-python",
   "name": "python",
   "nbconvert_exporter": "python",
   "pygments_lexer": "ipython3",
   "version": "3.12.9"
  }
 },
 "nbformat": 4,
 "nbformat_minor": 5
}
